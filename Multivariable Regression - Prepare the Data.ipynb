{
 "cells": [
  {
   "cell_type": "code",
   "execution_count": 1,
   "metadata": {
    "collapsed": false
   },
   "outputs": [
    {
     "name": "stdout",
     "output_type": "stream",
     "text": [
      "Murder        \n",
      "0       count     299\n",
      "        unique      1\n",
      "        top         0\n",
      "        freq      299\n",
      "1       count      49\n",
      "        unique     13\n",
      "        top         1\n",
      "        freq       31\n",
      "Name: Unnamed: 3, dtype: object\n",
      "Robbery        \n",
      "0        count      21\n",
      "         unique      1\n",
      "         top         0\n",
      "         freq       21\n",
      "1        count     327\n",
      "         unique    123\n",
      "         top         6\n",
      "         freq       15\n",
      "Name: Unnamed: 9, dtype: object\n"
     ]
    },
    {
     "data": {
      "image/png": "[encoded data removed]",
      "text/plain": [
       "<matplotlib.figure.Figure at 0x10d4efbe0>"
      ]
     },
     "metadata": {},
     "output_type": "display_data"
    }
   ],
   "source": [
    "import pandas as pd\n",
    "from matplotlib import pyplot as plt\n",
    "import numpy as np\n",
    "from sklearn import linear_model\n",
    "import seaborn as sns\n",
    "from sklearn.metrics import confusion_matrix\n",
    "from sklearn.model_selection import train_test_split\n",
    "from sklearn import datasets\n",
    "from sklearn import svm\n",
    "%matplotlib inline\n",
    "pd.options.display.float_format = '{:.3f}'.format\n",
    "\n",
    "crime = pd.read_csv('table_8_offenses_known_to_law_enforcement_new_york_by_city_2013.csv', sep=None, thousands=',', engine='python')\n",
    "\n",
    "\n",
    "# city = crime['Table 8'][4:352]\n",
    "population = crime['Unnamed: 1'][4:352]\n",
    "murder = crime['Unnamed: 3'][4:352]\n",
    "robbery = crime['Unnamed: 9'][4:352]\n",
    "\n",
    "y = [murder]\n",
    "x = [robbery]\n",
    "\n",
    "plt.scatter(x, y)\n",
    "\n",
    "# print(x)\n",
    "features = pd.get_dummies(population)\n",
    "\n",
    "features['Population'] = population\n",
    "\n",
    "features['Population Squared'] = population.astype(int) **2\n",
    "\n",
    "features['Murder'] = np.where(murder.astype(int) > 0, 1, 0)\n",
    "\n",
    "# Check to make sure it worked.\n",
    "print(murder.groupby(features['Murder']).describe())\n",
    "\n",
    "features['Robbery'] = np.where(robbery.astype(int) > 0, 1, 0)\n",
    "\n",
    "# Check to make sure it worked.\n",
    "print(robbery.groupby(features['Robbery']).describe())\n",
    "\n"
   ]
  }
 ],
 "metadata": {
  "kernelspec": {
   "display_name": "Python 3",
   "language": "python",
   "name": "python3"
  },
  "language_info": {
   "codemirror_mode": {
    "name": "ipython",
    "version": 3
   },
   "file_extension": ".py",
   "mimetype": "text/x-python",
   "name": "python",
   "nbconvert_exporter": "python",
   "pygments_lexer": "ipython3",
   "version": "3.6.0"
  }
 },
 "nbformat": 4,
 "nbformat_minor": 2
}
